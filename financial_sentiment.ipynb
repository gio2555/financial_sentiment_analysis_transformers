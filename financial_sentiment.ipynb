{
  "nbformat": 4,
  "nbformat_minor": 0,
  "metadata": {
    "colab": {
      "provenance": [],
      "authorship_tag": "ABX9TyNe/0m6YnoHBZSjAah3SOEh",
      "include_colab_link": true
    },
    "kernelspec": {
      "name": "python3",
      "display_name": "Python 3"
    },
    "language_info": {
      "name": "python"
    }
  },
  "cells": [
    {
      "cell_type": "markdown",
      "metadata": {
        "id": "view-in-github",
        "colab_type": "text"
      },
      "source": [
        "<a href=\"https://colab.research.google.com/github/gio2555/financial_sentiment_analysis_transformers/blob/main/financial_sentiment.ipynb\" target=\"_parent\"><img src=\"https://colab.research.google.com/assets/colab-badge.svg\" alt=\"Open In Colab\"/></a>"
      ]
    },
    {
      "cell_type": "code",
      "source": [
        "#install transformers to perform sentiment analysis\n",
        "!pip install transformers"
      ],
      "metadata": {
        "id": "tuWXeQMuMC_n",
        "colab": {
          "base_uri": "https://localhost:8080/"
        },
        "outputId": "14d427c6-e1c1-4552-fdf0-324bf9dc152a"
      },
      "execution_count": null,
      "outputs": [
        {
          "output_type": "stream",
          "name": "stdout",
          "text": [
            "Collecting transformers\n",
            "  Downloading transformers-4.30.2-py3-none-any.whl (7.2 MB)\n",
            "\u001b[2K     \u001b[90m━━━━━━━━━━━━━━━━━━━━━━━━━━━━━━━━━━━━━━━━\u001b[0m \u001b[32m7.2/7.2 MB\u001b[0m \u001b[31m51.8 MB/s\u001b[0m eta \u001b[36m0:00:00\u001b[0m\n",
            "\u001b[?25hRequirement already satisfied: filelock in /usr/local/lib/python3.10/dist-packages (from transformers) (3.12.2)\n",
            "Collecting huggingface-hub<1.0,>=0.14.1 (from transformers)\n",
            "  Downloading huggingface_hub-0.15.1-py3-none-any.whl (236 kB)\n",
            "\u001b[2K     \u001b[90m━━━━━━━━━━━━━━━━━━━━━━━━━━━━━━━━━━━━━━\u001b[0m \u001b[32m236.8/236.8 kB\u001b[0m \u001b[31m23.8 MB/s\u001b[0m eta \u001b[36m0:00:00\u001b[0m\n",
            "\u001b[?25hRequirement already satisfied: numpy>=1.17 in /usr/local/lib/python3.10/dist-packages (from transformers) (1.22.4)\n",
            "Requirement already satisfied: packaging>=20.0 in /usr/local/lib/python3.10/dist-packages (from transformers) (23.1)\n",
            "Requirement already satisfied: pyyaml>=5.1 in /usr/local/lib/python3.10/dist-packages (from transformers) (6.0)\n",
            "Requirement already satisfied: regex!=2019.12.17 in /usr/local/lib/python3.10/dist-packages (from transformers) (2022.10.31)\n",
            "Requirement already satisfied: requests in /usr/local/lib/python3.10/dist-packages (from transformers) (2.27.1)\n",
            "Collecting tokenizers!=0.11.3,<0.14,>=0.11.1 (from transformers)\n",
            "  Downloading tokenizers-0.13.3-cp310-cp310-manylinux_2_17_x86_64.manylinux2014_x86_64.whl (7.8 MB)\n",
            "\u001b[2K     \u001b[90m━━━━━━━━━━━━━━━━━━━━━━━━━━━━━━━━━━━━━━━━\u001b[0m \u001b[32m7.8/7.8 MB\u001b[0m \u001b[31m93.0 MB/s\u001b[0m eta \u001b[36m0:00:00\u001b[0m\n",
            "\u001b[?25hCollecting safetensors>=0.3.1 (from transformers)\n",
            "  Downloading safetensors-0.3.1-cp310-cp310-manylinux_2_17_x86_64.manylinux2014_x86_64.whl (1.3 MB)\n",
            "\u001b[2K     \u001b[90m━━━━━━━━━━━━━━━━━━━━━━━━━━━━━━━━━━━━━━━━\u001b[0m \u001b[32m1.3/1.3 MB\u001b[0m \u001b[31m72.9 MB/s\u001b[0m eta \u001b[36m0:00:00\u001b[0m\n",
            "\u001b[?25hRequirement already satisfied: tqdm>=4.27 in /usr/local/lib/python3.10/dist-packages (from transformers) (4.65.0)\n",
            "Requirement already satisfied: fsspec in /usr/local/lib/python3.10/dist-packages (from huggingface-hub<1.0,>=0.14.1->transformers) (2023.6.0)\n",
            "Requirement already satisfied: typing-extensions>=3.7.4.3 in /usr/local/lib/python3.10/dist-packages (from huggingface-hub<1.0,>=0.14.1->transformers) (4.6.3)\n",
            "Requirement already satisfied: urllib3<1.27,>=1.21.1 in /usr/local/lib/python3.10/dist-packages (from requests->transformers) (1.26.16)\n",
            "Requirement already satisfied: certifi>=2017.4.17 in /usr/local/lib/python3.10/dist-packages (from requests->transformers) (2023.5.7)\n",
            "Requirement already satisfied: charset-normalizer~=2.0.0 in /usr/local/lib/python3.10/dist-packages (from requests->transformers) (2.0.12)\n",
            "Requirement already satisfied: idna<4,>=2.5 in /usr/local/lib/python3.10/dist-packages (from requests->transformers) (3.4)\n",
            "Installing collected packages: tokenizers, safetensors, huggingface-hub, transformers\n",
            "Successfully installed huggingface-hub-0.15.1 safetensors-0.3.1 tokenizers-0.13.3 transformers-4.30.2\n"
          ]
        }
      ]
    },
    {
      "cell_type": "code",
      "source": [
        "import pandas as pd\n",
        "#tqdm progress bar in the for loop\n",
        "from tqdm import tqdm\n",
        "import requests\n",
        "import json\n",
        "import regex as re\n",
        "import datetime"
      ],
      "metadata": {
        "id": "hlky_tZ0Fbmj"
      },
      "execution_count": null,
      "outputs": []
    },
    {
      "cell_type": "code",
      "source": [
        "from transformers import AutoTokenizer\n",
        "from transformers import AutoModelForSequenceClassification\n",
        "from scipy.special import softmax"
      ],
      "metadata": {
        "id": "PkOXTZsvzeMn"
      },
      "execution_count": null,
      "outputs": []
    },
    {
      "cell_type": "markdown",
      "source": [
        "# Get stock articles of the last two months"
      ],
      "metadata": {
        "id": "phrjWFLfLpYz"
      }
    },
    {
      "cell_type": "markdown",
      "source": [
        "### paid version of api news that loop on different querys and on more than 100 article"
      ],
      "metadata": {
        "id": "mlaC3_ABLIWm"
      }
    },
    {
      "cell_type": "code",
      "source": [
        "api_key = \"d4488f0d43c54bf791f9c28f26892935\""
      ],
      "metadata": {
        "id": "uNfrhr6gLttL"
      },
      "execution_count": null,
      "outputs": []
    },
    {
      "cell_type": "code",
      "source": [
        "#Set up the API request\n",
        "api_key = \"<Your NEWS API Key>\"  # Replace with your News API key\n",
        "base_url = \"https://newsapi.org/v2/everything\"\n",
        "search_queries = [\"baba\", \"baba stock\", \"alibaba\"]  # Replace with your desired search queries\n",
        "page_size = 100  # Number of articles per page\n",
        "\n",
        "# Get the current date\n",
        "#current_date = datetime.date.today().isoformat()\n",
        "\n",
        "# Initialize variables\n",
        "articles = []\n",
        "\n",
        "# Pagination loop\n",
        "for query in search_queries:\n",
        "    page = 1\n",
        "    while True:\n",
        "        # Define the parameters for the API request\n",
        "        params = {\n",
        "            \"apiKey\": api_key,\n",
        "            \"q\": query,\n",
        "            \"pageSize\": page_size,\n",
        "            \"page\": page\n",
        "        }\n",
        "\n",
        "        # Send the API request\n",
        "        response = requests.get(base_url, params=params)\n",
        "        data = response.json()\n",
        "\n",
        "        # Process the response\n",
        "        if response.status_code == 200:\n",
        "            # Append articles to the list\n",
        "            articles.extend(data[\"articles\"])\n",
        "\n",
        "            # Check if there are more pages\n",
        "            total_pages = data[\"totalResults\"] // page_size\n",
        "            if page >= total_pages:\n",
        "                break\n",
        "\n",
        "            # Increment page number\n",
        "            page += 1\n",
        "        else:\n",
        "            print(f\"Error: {response.status_code} - {data['message']}\")\n",
        "            break\n",
        "\n",
        "# Process the retrieved articles\n",
        "for article in articles:\n",
        "    # Extract relevant information from each article\n",
        "    title = article[\"title\"]\n",
        "    description = article[\"description\"]\n",
        "    published_at = article[\"publishedAt\"]\n",
        "\n",
        "    # Do further processing or analysis with the retrieved news articles\n",
        "    print(f\"Title: {title}\")\n",
        "    print(f\"Description: {description}\")\n",
        "    print(f\"Published at: {published_at}\")\n",
        "    print(\"------------------------------------\")\n"
      ],
      "metadata": {
        "id": "yrgrsMVJxAYz"
      },
      "execution_count": null,
      "outputs": []
    },
    {
      "cell_type": "markdown",
      "source": [
        "### free method with a 100 aricles scraper limit with news api"
      ],
      "metadata": {
        "id": "_YUZItHxL0yB"
      }
    },
    {
      "cell_type": "code",
      "source": [
        "import requests\n",
        "\n",
        "api_key = \"<Your NEWS API Key>\"\n",
        "query = \"Alibaba stock\"\n",
        "\n",
        "url = f\"https://newsapi.org/v2/everything?q={query}&apiKey={api_key}\"\n",
        "response = requests.get(url)\n",
        "\n",
        "if response.status_code == 200:\n",
        "    news_data = response.json()\n",
        "    articles = news_data['articles']\n",
        "    for article in articles:\n",
        "        title = article['title']\n",
        "        source = article['source']['name']\n",
        "        published_at = article['publishedAt']\n",
        "        print(f\"Title: {title}\\nSource: {source}\\nPublished At: {published_at}\\n\")\n",
        "else:\n",
        "    print(\"Error occurred while fetching news.\")\n"
      ],
      "metadata": {
        "id": "jKG2FHOKLkPr"
      },
      "execution_count": null,
      "outputs": []
    },
    {
      "cell_type": "markdown",
      "source": [
        "## Mediacloud"
      ],
      "metadata": {
        "id": "q3vuz7YYNsBX"
      }
    },
    {
      "cell_type": "code",
      "source": [
        "!pip install mediacloud\n"
      ],
      "metadata": {
        "colab": {
          "base_uri": "https://localhost:8080/"
        },
        "id": "cn_PfaF5QYAE",
        "outputId": "7543127a-b187-4f01-d042-38b86213301a"
      },
      "execution_count": null,
      "outputs": [
        {
          "output_type": "stream",
          "name": "stdout",
          "text": [
            "Collecting mediacloud\n",
            "  Downloading mediacloud-4.0.1.tar.gz (4.7 kB)\n",
            "  Preparing metadata (setup.py) ... \u001b[?25l\u001b[?25hdone\n",
            "Requirement already satisfied: requests==2.* in /usr/local/lib/python3.10/dist-packages (from mediacloud) (2.27.1)\n",
            "Requirement already satisfied: urllib3<1.27,>=1.21.1 in /usr/local/lib/python3.10/dist-packages (from requests==2.*->mediacloud) (1.26.16)\n",
            "Requirement already satisfied: certifi>=2017.4.17 in /usr/local/lib/python3.10/dist-packages (from requests==2.*->mediacloud) (2023.5.7)\n",
            "Requirement already satisfied: charset-normalizer~=2.0.0 in /usr/local/lib/python3.10/dist-packages (from requests==2.*->mediacloud) (2.0.12)\n",
            "Requirement already satisfied: idna<4,>=2.5 in /usr/local/lib/python3.10/dist-packages (from requests==2.*->mediacloud) (3.4)\n",
            "Building wheels for collected packages: mediacloud\n",
            "  Building wheel for mediacloud (setup.py) ... \u001b[?25l\u001b[?25hdone\n",
            "  Created wheel for mediacloud: filename=mediacloud-4.0.1-py3-none-any.whl size=4943 sha256=f8794c84cc395f99bb3d3f7243fef00edd472dd28cfa226cfa5cb644ef7a9416\n",
            "  Stored in directory: /root/.cache/pip/wheels/19/ff/76/9e686629a8dd89777a9d7e23e09eeb1b57a7ccf6362e0d45ac\n",
            "Successfully built mediacloud\n",
            "Installing collected packages: mediacloud\n",
            "Successfully installed mediacloud-4.0.1\n"
          ]
        }
      ]
    },
    {
      "cell_type": "code",
      "source": [
        "import mediacloud.api\n",
        "INDIA_NATIONAL_COLLECTION = 34412118\n",
        "SOURCES_PER_PAGE = 100  # the number of sources retrieved per page\n",
        "mc_directory = mediacloud.api.DirectoryApi('823162d7e4e886d8dec47e2fc3bf26a93a4359de')\n",
        "sources = []\n",
        "offset = 0   # offset for paging through\n",
        "while True:\n",
        "    # grab a page of sources in the collection\n",
        "    response = mc_directory.source_list(collection_id=INDIA_NATIONAL_COLLECTION, limit=SOURCES_PER_PAGE, offset=offset)\n",
        "    # add it to our running list of all the sources in the collection\n",
        "    sources += response['results']\n",
        "    # if there is no next page then we're done so bail out\n",
        "    if response['next'] is None:\n",
        "        break\n",
        "    # otherwise setup to fetch the next page of sources\n",
        "    offset += len(response['results'])\n",
        "print(\"India National Collection has {} sources\".format(len(sources)))"
      ],
      "metadata": {
        "colab": {
          "base_uri": "https://localhost:8080/"
        },
        "id": "bbzhc4F8QeYQ",
        "outputId": "6411cc2f-ecef-4598-f39e-c1422b087616"
      },
      "execution_count": null,
      "outputs": [
        {
          "output_type": "stream",
          "name": "stdout",
          "text": [
            "India National Collection has 136 sources\n"
          ]
        }
      ]
    },
    {
      "cell_type": "markdown",
      "source": [
        "### mediacrawler"
      ],
      "metadata": {
        "id": "ENq1PjaH2CAH"
      }
    },
    {
      "cell_type": "code",
      "source": [
        "!pip install comcrawl"
      ],
      "metadata": {
        "colab": {
          "base_uri": "https://localhost:8080/"
        },
        "id": "3T6mGZsKIrfB",
        "outputId": "9ec043d2-909f-4f8e-f1fe-c132b6311979"
      },
      "execution_count": null,
      "outputs": [
        {
          "output_type": "stream",
          "name": "stdout",
          "text": [
            "Collecting comcrawl\n",
            "  Downloading comcrawl-1.0.2-py3-none-any.whl (10 kB)\n",
            "Requirement already satisfied: requests<3.0.0,>=2.22.0 in /usr/local/lib/python3.10/dist-packages (from comcrawl) (2.27.1)\n",
            "Requirement already satisfied: urllib3<1.27,>=1.21.1 in /usr/local/lib/python3.10/dist-packages (from requests<3.0.0,>=2.22.0->comcrawl) (1.26.16)\n",
            "Requirement already satisfied: certifi>=2017.4.17 in /usr/local/lib/python3.10/dist-packages (from requests<3.0.0,>=2.22.0->comcrawl) (2023.5.7)\n",
            "Requirement already satisfied: charset-normalizer~=2.0.0 in /usr/local/lib/python3.10/dist-packages (from requests<3.0.0,>=2.22.0->comcrawl) (2.0.12)\n",
            "Requirement already satisfied: idna<4,>=2.5 in /usr/local/lib/python3.10/dist-packages (from requests<3.0.0,>=2.22.0->comcrawl) (3.4)\n",
            "Installing collected packages: comcrawl\n",
            "Successfully installed comcrawl-1.0.2\n"
          ]
        }
      ]
    },
    {
      "cell_type": "code",
      "source": [
        "from comcrawl import IndexClient\n",
        "\n",
        "client = IndexClient(\"2023-23\")\n",
        "\n",
        "client.search(\"reddit.com/r/MachineLearning/*\")\n",
        "client.download()\n",
        "\n",
        "first_page_html = client.results[0][\"html\"]"
      ],
      "metadata": {
        "id": "VTXV2du0LC-Z"
      },
      "execution_count": null,
      "outputs": []
    },
    {
      "cell_type": "code",
      "source": [
        "import requests\n",
        "\n",
        "url = \"https://newsapi.org/v2/top-headlines?sources=reuters&apiKey=<Your API Key>\"\n",
        "response = requests.get(url)\n",
        "\n",
        "if response.status_code == 200:\n",
        "    news_data = response.json()\n",
        "    articles = news_data['articles']\n",
        "    for article in articles:\n",
        "        title = article['title']\n",
        "        source = article['source']['name']\n",
        "        published_at = article['publishedAt']\n",
        "        print(f\"Title: {title}\\nSource: {source}\\nPublished At: {published_at}\\n\")\n",
        "else:\n",
        "    print(\"Error occurred while fetching news.\")\n"
      ],
      "metadata": {
        "colab": {
          "base_uri": "https://localhost:8080/"
        },
        "id": "gOFunTybMaE-",
        "outputId": "0b5831c8-d515-4ce8-f406-3e130d3a3439"
      },
      "execution_count": null,
      "outputs": [
        {
          "output_type": "stream",
          "name": "stdout",
          "text": [
            "Error occurred while fetching news.\n"
          ]
        }
      ]
    },
    {
      "cell_type": "markdown",
      "source": [
        "## perform data cleaning with pandas"
      ],
      "metadata": {
        "id": "8ad7r5S6CvGs"
      }
    },
    {
      "cell_type": "code",
      "source": [
        "df = pd.DataFrame(articles)\n"
      ],
      "metadata": {
        "id": "BLDlInuuFxc9"
      },
      "execution_count": null,
      "outputs": []
    },
    {
      "cell_type": "code",
      "source": [
        "df = pd.DataFrame(data['articles']).drop('urlToImage', axis=1)"
      ],
      "metadata": {
        "id": "KnFR2ybXF-wQ"
      },
      "execution_count": null,
      "outputs": []
    },
    {
      "cell_type": "code",
      "source": [
        "df"
      ],
      "metadata": {
        "colab": {
          "base_uri": "https://localhost:8080/",
          "height": 850
        },
        "id": "eFg6STUHmxCS",
        "outputId": "7315f7f3-f4c7-4910-91b1-6c863917f17e"
      },
      "execution_count": null,
      "outputs": [
        {
          "output_type": "execute_result",
          "data": {
            "text/plain": [
              "                                               source  \\\n",
              "0                   {'id': None, 'name': 'ReadWrite'}   \n",
              "1   {'id': 'business-insider', 'name': 'Business I...   \n",
              "2                 {'id': None, 'name': 'MarketWatch'}   \n",
              "3         {'id': None, 'name': 'Yahoo Entertainment'}   \n",
              "4                 {'id': None, 'name': 'Motley Fool'}   \n",
              "..                                                ...   \n",
              "95                     {'id': None, 'name': 'Forbes'}   \n",
              "96       {'id': 'independent', 'name': 'Independent'}   \n",
              "97        {'id': None, 'name': 'Yahoo Entertainment'}   \n",
              "98                 {'id': None, 'name': 'MarketBeat'}   \n",
              "99        {'id': None, 'name': 'Yahoo Entertainment'}   \n",
              "\n",
              "                                               author  \\\n",
              "0                                    Aaron Heienickle   \n",
              "1                                         Huileng Tan   \n",
              "2                                          Emily Bary   \n",
              "3                                       Yahoo Finance   \n",
              "4              newsfeedback@fool.com (Neil Rozenbaum)   \n",
              "..                                                ...   \n",
              "95  Q.ai - Powering a Personal Wealth Movement, Co...   \n",
              "96                                     Holly Williams   \n",
              "97                           South China Morning Post   \n",
              "98                                         MarketBeat   \n",
              "99                                        Jason Scott   \n",
              "\n",
              "                                                title  \\\n",
              "0   Alibaba’s Leadership Shake-Up: Major Changes U...   \n",
              "1   A Chinese EV billionaire's wealth has plummete...   \n",
              "2   The Ratings Game: Alibaba’s stock is ‘still ve...   \n",
              "3   PayPal-KKR deal, Alibaba shares fall, Eli Lill...   \n",
              "4                      Alibaba Stock: Headed to $100?   \n",
              "..                                                ...   \n",
              "95  Upside Foods And Good Meat Secure USDA Approva...   \n",
              "96  Asos shares jump after reported £1bn bid from ...   \n",
              "97  Alibaba, Tencent, BYD drive Hong Kong stocks t...   \n",
              "98  A New Cycle For Alibaba Could Double Its Stock...   \n",
              "99  Asian Stock Futures Mixed as Global Rally Wave...   \n",
              "\n",
              "                                          description  \\\n",
              "0   Chinese e-commerce behemoth Alibaba Group Hold...   \n",
              "1   He Xiaopeng, the CEO of Xpeng, owns 20.5% of t...   \n",
              "2   Comparisons are about to get tougher for the e...   \n",
              "3   Alibaba stock falls after the company's CEO an...   \n",
              "4         The risk-reward makes this very compelling.   \n",
              "..                                                ...   \n",
              "95  Investors are chomping at the bit to get in on...   \n",
              "96  The troubled online retailer was reportedly ap...   \n",
              "97  Hong Kong stocks jumped by the most in two wee...   \n",
              "98  Alibaba Group (NYSE:BABA) has been increasing ...   \n",
              "99  (Bloomberg) -- Asian stocks are poised for a m...   \n",
              "\n",
              "                                                  url           publishedAt  \\\n",
              "0   https://readwrite.com/alibabas-leadership-shak...  2023-06-27T18:45:41Z   \n",
              "1   https://www.businessinsider.com/ev-price-war-x...  2023-05-30T05:02:04Z   \n",
              "2   https://www.marketwatch.com/story/alibabas-sto...  2023-06-27T11:28:00Z   \n",
              "3   https://finance.yahoo.com/video/paypal-kkr-dea...  2023-06-20T15:04:11Z   \n",
              "4   https://www.fool.com/investing/2023/06/12/alib...  2023-06-12T15:00:00Z   \n",
              "..                                                ...                   ...   \n",
              "95  https://www.forbes.com/sites/qai/2023/06/23/up...  2023-06-23T12:51:49Z   \n",
              "96  https://www.independent.co.uk/business/asos-sh...  2023-06-05T08:18:19Z   \n",
              "97  https://finance.yahoo.com/news/alibaba-tencent...  2023-06-15T09:30:00Z   \n",
              "98  https://www.marketbeat.com/originals/a-new-cyc...  2023-06-15T05:28:34Z   \n",
              "99  https://finance.yahoo.com/news/asian-stock-fut...  2023-06-19T22:26:45Z   \n",
              "\n",
              "                                              content  \n",
              "0   Chinese e-commerce behemoth Alibaba Group Hold...  \n",
              "1   He Xiaopeng, Chairman and CEO of Chinese elect...  \n",
              "2   Alibaba Group Holding Ltd. shares might be a v...  \n",
              "3   <ul><li>\\r\\n</li><li>\\r\\n</li><li>\\r\\n</li><li...  \n",
              "4   In this video, I will talk about Alibaba(BABA ...  \n",
              "..                                                ...  \n",
              "95  (Photo by Catherine LAI / AFP) / TO GO WITH As...  \n",
              "96  For free real time breaking news alerts sent s...  \n",
              "97  Hong Kong stocks jumped by the most in two wee...  \n",
              "98  Key Points\\r\\n<ul><li>As the United States and...  \n",
              "99  (Bloomberg) -- Asian stocks are poised for a m...  \n",
              "\n",
              "[100 rows x 7 columns]"
            ],
            "text/html": [
              "\n",
              "  <div id=\"df-b4feb705-b0ac-4324-819e-acdd6cec60ee\">\n",
              "    <div class=\"colab-df-container\">\n",
              "      <div>\n",
              "<style scoped>\n",
              "    .dataframe tbody tr th:only-of-type {\n",
              "        vertical-align: middle;\n",
              "    }\n",
              "\n",
              "    .dataframe tbody tr th {\n",
              "        vertical-align: top;\n",
              "    }\n",
              "\n",
              "    .dataframe thead th {\n",
              "        text-align: right;\n",
              "    }\n",
              "</style>\n",
              "<table border=\"1\" class=\"dataframe\">\n",
              "  <thead>\n",
              "    <tr style=\"text-align: right;\">\n",
              "      <th></th>\n",
              "      <th>source</th>\n",
              "      <th>author</th>\n",
              "      <th>title</th>\n",
              "      <th>description</th>\n",
              "      <th>url</th>\n",
              "      <th>publishedAt</th>\n",
              "      <th>content</th>\n",
              "    </tr>\n",
              "  </thead>\n",
              "  <tbody>\n",
              "    <tr>\n",
              "      <th>0</th>\n",
              "      <td>{'id': None, 'name': 'ReadWrite'}</td>\n",
              "      <td>Aaron Heienickle</td>\n",
              "      <td>Alibaba’s Leadership Shake-Up: Major Changes U...</td>\n",
              "      <td>Chinese e-commerce behemoth Alibaba Group Hold...</td>\n",
              "      <td>https://readwrite.com/alibabas-leadership-shak...</td>\n",
              "      <td>2023-06-27T18:45:41Z</td>\n",
              "      <td>Chinese e-commerce behemoth Alibaba Group Hold...</td>\n",
              "    </tr>\n",
              "    <tr>\n",
              "      <th>1</th>\n",
              "      <td>{'id': 'business-insider', 'name': 'Business I...</td>\n",
              "      <td>Huileng Tan</td>\n",
              "      <td>A Chinese EV billionaire's wealth has plummete...</td>\n",
              "      <td>He Xiaopeng, the CEO of Xpeng, owns 20.5% of t...</td>\n",
              "      <td>https://www.businessinsider.com/ev-price-war-x...</td>\n",
              "      <td>2023-05-30T05:02:04Z</td>\n",
              "      <td>He Xiaopeng, Chairman and CEO of Chinese elect...</td>\n",
              "    </tr>\n",
              "    <tr>\n",
              "      <th>2</th>\n",
              "      <td>{'id': None, 'name': 'MarketWatch'}</td>\n",
              "      <td>Emily Bary</td>\n",
              "      <td>The Ratings Game: Alibaba’s stock is ‘still ve...</td>\n",
              "      <td>Comparisons are about to get tougher for the e...</td>\n",
              "      <td>https://www.marketwatch.com/story/alibabas-sto...</td>\n",
              "      <td>2023-06-27T11:28:00Z</td>\n",
              "      <td>Alibaba Group Holding Ltd. shares might be a v...</td>\n",
              "    </tr>\n",
              "    <tr>\n",
              "      <th>3</th>\n",
              "      <td>{'id': None, 'name': 'Yahoo Entertainment'}</td>\n",
              "      <td>Yahoo Finance</td>\n",
              "      <td>PayPal-KKR deal, Alibaba shares fall, Eli Lill...</td>\n",
              "      <td>Alibaba stock falls after the company's CEO an...</td>\n",
              "      <td>https://finance.yahoo.com/video/paypal-kkr-dea...</td>\n",
              "      <td>2023-06-20T15:04:11Z</td>\n",
              "      <td>&lt;ul&gt;&lt;li&gt;\\r\\n&lt;/li&gt;&lt;li&gt;\\r\\n&lt;/li&gt;&lt;li&gt;\\r\\n&lt;/li&gt;&lt;li...</td>\n",
              "    </tr>\n",
              "    <tr>\n",
              "      <th>4</th>\n",
              "      <td>{'id': None, 'name': 'Motley Fool'}</td>\n",
              "      <td>newsfeedback@fool.com (Neil Rozenbaum)</td>\n",
              "      <td>Alibaba Stock: Headed to $100?</td>\n",
              "      <td>The risk-reward makes this very compelling.</td>\n",
              "      <td>https://www.fool.com/investing/2023/06/12/alib...</td>\n",
              "      <td>2023-06-12T15:00:00Z</td>\n",
              "      <td>In this video, I will talk about Alibaba(BABA ...</td>\n",
              "    </tr>\n",
              "    <tr>\n",
              "      <th>...</th>\n",
              "      <td>...</td>\n",
              "      <td>...</td>\n",
              "      <td>...</td>\n",
              "      <td>...</td>\n",
              "      <td>...</td>\n",
              "      <td>...</td>\n",
              "      <td>...</td>\n",
              "    </tr>\n",
              "    <tr>\n",
              "      <th>95</th>\n",
              "      <td>{'id': None, 'name': 'Forbes'}</td>\n",
              "      <td>Q.ai - Powering a Personal Wealth Movement, Co...</td>\n",
              "      <td>Upside Foods And Good Meat Secure USDA Approva...</td>\n",
              "      <td>Investors are chomping at the bit to get in on...</td>\n",
              "      <td>https://www.forbes.com/sites/qai/2023/06/23/up...</td>\n",
              "      <td>2023-06-23T12:51:49Z</td>\n",
              "      <td>(Photo by Catherine LAI / AFP) / TO GO WITH As...</td>\n",
              "    </tr>\n",
              "    <tr>\n",
              "      <th>96</th>\n",
              "      <td>{'id': 'independent', 'name': 'Independent'}</td>\n",
              "      <td>Holly Williams</td>\n",
              "      <td>Asos shares jump after reported £1bn bid from ...</td>\n",
              "      <td>The troubled online retailer was reportedly ap...</td>\n",
              "      <td>https://www.independent.co.uk/business/asos-sh...</td>\n",
              "      <td>2023-06-05T08:18:19Z</td>\n",
              "      <td>For free real time breaking news alerts sent s...</td>\n",
              "    </tr>\n",
              "    <tr>\n",
              "      <th>97</th>\n",
              "      <td>{'id': None, 'name': 'Yahoo Entertainment'}</td>\n",
              "      <td>South China Morning Post</td>\n",
              "      <td>Alibaba, Tencent, BYD drive Hong Kong stocks t...</td>\n",
              "      <td>Hong Kong stocks jumped by the most in two wee...</td>\n",
              "      <td>https://finance.yahoo.com/news/alibaba-tencent...</td>\n",
              "      <td>2023-06-15T09:30:00Z</td>\n",
              "      <td>Hong Kong stocks jumped by the most in two wee...</td>\n",
              "    </tr>\n",
              "    <tr>\n",
              "      <th>98</th>\n",
              "      <td>{'id': None, 'name': 'MarketBeat'}</td>\n",
              "      <td>MarketBeat</td>\n",
              "      <td>A New Cycle For Alibaba Could Double Its Stock...</td>\n",
              "      <td>Alibaba Group (NYSE:BABA) has been increasing ...</td>\n",
              "      <td>https://www.marketbeat.com/originals/a-new-cyc...</td>\n",
              "      <td>2023-06-15T05:28:34Z</td>\n",
              "      <td>Key Points\\r\\n&lt;ul&gt;&lt;li&gt;As the United States and...</td>\n",
              "    </tr>\n",
              "    <tr>\n",
              "      <th>99</th>\n",
              "      <td>{'id': None, 'name': 'Yahoo Entertainment'}</td>\n",
              "      <td>Jason Scott</td>\n",
              "      <td>Asian Stock Futures Mixed as Global Rally Wave...</td>\n",
              "      <td>(Bloomberg) -- Asian stocks are poised for a m...</td>\n",
              "      <td>https://finance.yahoo.com/news/asian-stock-fut...</td>\n",
              "      <td>2023-06-19T22:26:45Z</td>\n",
              "      <td>(Bloomberg) -- Asian stocks are poised for a m...</td>\n",
              "    </tr>\n",
              "  </tbody>\n",
              "</table>\n",
              "<p>100 rows × 7 columns</p>\n",
              "</div>\n",
              "      <button class=\"colab-df-convert\" onclick=\"convertToInteractive('df-b4feb705-b0ac-4324-819e-acdd6cec60ee')\"\n",
              "              title=\"Convert this dataframe to an interactive table.\"\n",
              "              style=\"display:none;\">\n",
              "        \n",
              "  <svg xmlns=\"http://www.w3.org/2000/svg\" height=\"24px\"viewBox=\"0 0 24 24\"\n",
              "       width=\"24px\">\n",
              "    <path d=\"M0 0h24v24H0V0z\" fill=\"none\"/>\n",
              "    <path d=\"M18.56 5.44l.94 2.06.94-2.06 2.06-.94-2.06-.94-.94-2.06-.94 2.06-2.06.94zm-11 1L8.5 8.5l.94-2.06 2.06-.94-2.06-.94L8.5 2.5l-.94 2.06-2.06.94zm10 10l.94 2.06.94-2.06 2.06-.94-2.06-.94-.94-2.06-.94 2.06-2.06.94z\"/><path d=\"M17.41 7.96l-1.37-1.37c-.4-.4-.92-.59-1.43-.59-.52 0-1.04.2-1.43.59L10.3 9.45l-7.72 7.72c-.78.78-.78 2.05 0 2.83L4 21.41c.39.39.9.59 1.41.59.51 0 1.02-.2 1.41-.59l7.78-7.78 2.81-2.81c.8-.78.8-2.07 0-2.86zM5.41 20L4 18.59l7.72-7.72 1.47 1.35L5.41 20z\"/>\n",
              "  </svg>\n",
              "      </button>\n",
              "      \n",
              "  <style>\n",
              "    .colab-df-container {\n",
              "      display:flex;\n",
              "      flex-wrap:wrap;\n",
              "      gap: 12px;\n",
              "    }\n",
              "\n",
              "    .colab-df-convert {\n",
              "      background-color: #E8F0FE;\n",
              "      border: none;\n",
              "      border-radius: 50%;\n",
              "      cursor: pointer;\n",
              "      display: none;\n",
              "      fill: #1967D2;\n",
              "      height: 32px;\n",
              "      padding: 0 0 0 0;\n",
              "      width: 32px;\n",
              "    }\n",
              "\n",
              "    .colab-df-convert:hover {\n",
              "      background-color: #E2EBFA;\n",
              "      box-shadow: 0px 1px 2px rgba(60, 64, 67, 0.3), 0px 1px 3px 1px rgba(60, 64, 67, 0.15);\n",
              "      fill: #174EA6;\n",
              "    }\n",
              "\n",
              "    [theme=dark] .colab-df-convert {\n",
              "      background-color: #3B4455;\n",
              "      fill: #D2E3FC;\n",
              "    }\n",
              "\n",
              "    [theme=dark] .colab-df-convert:hover {\n",
              "      background-color: #434B5C;\n",
              "      box-shadow: 0px 1px 3px 1px rgba(0, 0, 0, 0.15);\n",
              "      filter: drop-shadow(0px 1px 2px rgba(0, 0, 0, 0.3));\n",
              "      fill: #FFFFFF;\n",
              "    }\n",
              "  </style>\n",
              "\n",
              "      <script>\n",
              "        const buttonEl =\n",
              "          document.querySelector('#df-b4feb705-b0ac-4324-819e-acdd6cec60ee button.colab-df-convert');\n",
              "        buttonEl.style.display =\n",
              "          google.colab.kernel.accessAllowed ? 'block' : 'none';\n",
              "\n",
              "        async function convertToInteractive(key) {\n",
              "          const element = document.querySelector('#df-b4feb705-b0ac-4324-819e-acdd6cec60ee');\n",
              "          const dataTable =\n",
              "            await google.colab.kernel.invokeFunction('convertToInteractive',\n",
              "                                                     [key], {});\n",
              "          if (!dataTable) return;\n",
              "\n",
              "          const docLinkHtml = 'Like what you see? Visit the ' +\n",
              "            '<a target=\"_blank\" href=https://colab.research.google.com/notebooks/data_table.ipynb>data table notebook</a>'\n",
              "            + ' to learn more about interactive tables.';\n",
              "          element.innerHTML = '';\n",
              "          dataTable['output_type'] = 'display_data';\n",
              "          await google.colab.output.renderOutput(dataTable, element);\n",
              "          const docLink = document.createElement('div');\n",
              "          docLink.innerHTML = docLinkHtml;\n",
              "          element.appendChild(docLink);\n",
              "        }\n",
              "      </script>\n",
              "    </div>\n",
              "  </div>\n",
              "  "
            ]
          },
          "metadata": {},
          "execution_count": 21
        }
      ]
    },
    {
      "cell_type": "code",
      "source": [
        "df['source'] = df['source'].astype(str)\n",
        "df[['id', 'Magazine']] = df['source'].str.split(',', expand=True)\n",
        "df = df.drop('source', axis=1).copy()\n",
        "df = df.drop('id',axis=1).copy()"
      ],
      "metadata": {
        "id": "wNwKQIAWHCwU"
      },
      "execution_count": null,
      "outputs": []
    },
    {
      "cell_type": "code",
      "source": [
        "df['Magazine'] = df['Magazine'].astype('string')"
      ],
      "metadata": {
        "id": "CiRt5FO2Gh83"
      },
      "execution_count": null,
      "outputs": []
    },
    {
      "cell_type": "code",
      "source": [
        "df['Magazine']"
      ],
      "metadata": {
        "colab": {
          "base_uri": "https://localhost:8080/"
        },
        "id": "H-Mm_R8eGjju",
        "outputId": "1479f7e5-b9ed-431d-e5d9-18dbfba9113c"
      },
      "execution_count": null,
      "outputs": [
        {
          "output_type": "execute_result",
          "data": {
            "text/plain": [
              "0         'name': 'Business Insider'}\n",
              "1              'name': 'MarketWatch'}\n",
              "2      'name': 'Yahoo Entertainment'}\n",
              "3              'name': 'Motley Fool'}\n",
              "4              'name': 'Motley Fool'}\n",
              "                   ...               \n",
              "95              'name': 'Libsyn.com'}\n",
              "96     'name': 'Yahoo Entertainment'}\n",
              "97                  'name': 'Forbes'}\n",
              "98             'name': 'Google News'}\n",
              "99     'name': 'Yahoo Entertainment'}\n",
              "Name: Magazine, Length: 100, dtype: string"
            ]
          },
          "metadata": {},
          "execution_count": 12
        }
      ]
    },
    {
      "cell_type": "code",
      "source": [
        "list_of_chars = [\"'\",'\"', 'name', ':', ' ', '}']\n",
        "pattern = '|'.join(map(re.escape, list_of_chars))\n",
        "df['Magazine'] = df['Magazine'].str.replace(pattern, '')"
      ],
      "metadata": {
        "colab": {
          "base_uri": "https://localhost:8080/"
        },
        "id": "aNOiIuuCGnxP",
        "outputId": "1a77a171-7bb7-43e1-e037-b1d622e8c6a5"
      },
      "execution_count": null,
      "outputs": [
        {
          "output_type": "stream",
          "name": "stderr",
          "text": [
            "<ipython-input-13-9f085a66f425>:3: FutureWarning: The default value of regex will change from True to False in a future version.\n",
            "  df['Magazine'] = df['Magazine'].str.replace(pattern, '')\n"
          ]
        }
      ]
    },
    {
      "cell_type": "code",
      "source": [
        "df.rename(columns={'publishedAt':'date'}, inplace=True)"
      ],
      "metadata": {
        "id": "V6Ioon6_IcZQ"
      },
      "execution_count": null,
      "outputs": []
    },
    {
      "cell_type": "code",
      "source": [
        "df['date']= pd.to_datetime(df['date'])"
      ],
      "metadata": {
        "id": "wxhHD7fvGrMx"
      },
      "execution_count": null,
      "outputs": []
    },
    {
      "cell_type": "code",
      "source": [
        "df['content'] = df['content'].astype('string')"
      ],
      "metadata": {
        "id": "c0lbG8PxGtsJ"
      },
      "execution_count": null,
      "outputs": []
    },
    {
      "cell_type": "markdown",
      "source": [
        "# Sentiment analysis"
      ],
      "metadata": {
        "id": "bkJfBbvvGKGj"
      }
    },
    {
      "cell_type": "markdown",
      "source": [
        "## load the model"
      ],
      "metadata": {
        "id": "PoYTTJPjHP3D"
      }
    },
    {
      "cell_type": "code",
      "source": [
        "MODEL = f\"cardiffnlp/twitter-roberta-base-sentiment\"\n",
        "tokenizer = AutoTokenizer.from_pretrained(MODEL)\n",
        "model = AutoModelForSequenceClassification.from_pretrained(MODEL)"
      ],
      "metadata": {
        "id": "C1hqF7IImSTC"
      },
      "execution_count": null,
      "outputs": []
    },
    {
      "cell_type": "markdown",
      "source": [
        "#### see if the transofromers work on an example"
      ],
      "metadata": {
        "id": "kvc7nP5CHVi3"
      }
    },
    {
      "cell_type": "code",
      "source": [
        "#url of the article\n",
        "df['url'][95]"
      ],
      "metadata": {
        "colab": {
          "base_uri": "https://localhost:8080/",
          "height": 35
        },
        "id": "gf9pPVxxwBEb",
        "outputId": "21fe70a7-5aed-4ac4-cbf9-31fb9b4d6c43"
      },
      "execution_count": null,
      "outputs": [
        {
          "output_type": "execute_result",
          "data": {
            "text/plain": [
              "'https://finance.yahoo.com/video/paypal-kkr-deal-alibaba-shares-150411977.html'"
            ],
            "application/vnd.google.colaboratory.intrinsic+json": {
              "type": "string"
            }
          },
          "metadata": {},
          "execution_count": 18
        }
      ]
    },
    {
      "cell_type": "code",
      "source": [
        "example= df['content'][95]"
      ],
      "metadata": {
        "id": "onlSGYqFEwEf"
      },
      "execution_count": null,
      "outputs": []
    },
    {
      "cell_type": "code",
      "source": [
        "encoded_text = tokenizer(example,return_tensors='pt')\n",
        "output = model(**encoded_text)\n",
        "scores = output[0][0].detach().numpy()\n",
        "scores = softmax(scores)\n",
        "scores_dict = {\n",
        "    'negative': scores[0],\n",
        "    'neutral': scores[1],\n",
        "    'positive': scores[2]\n",
        "}\n",
        "print(scores_dict)"
      ],
      "metadata": {
        "colab": {
          "base_uri": "https://localhost:8080/"
        },
        "id": "FP9Ds_-fmdxH",
        "outputId": "5a93c5fb-18ee-44b4-b995-f3a96a746cd6"
      },
      "execution_count": null,
      "outputs": [
        {
          "output_type": "stream",
          "name": "stdout",
          "text": [
            "{'negative': 0.047906153, 'neutral': 0.90762335, 'positive': 0.044470493}\n"
          ]
        }
      ]
    },
    {
      "cell_type": "code",
      "source": [
        "max(scores_dict, key=scores_dict.get)"
      ],
      "metadata": {
        "colab": {
          "base_uri": "https://localhost:8080/",
          "height": 35
        },
        "id": "iH053qspPxdm",
        "outputId": "b8bb98ce-3457-4b61-a6be-24456088fe1a"
      },
      "execution_count": null,
      "outputs": [
        {
          "output_type": "execute_result",
          "data": {
            "text/plain": [
              "'neutral'"
            ],
            "application/vnd.google.colaboratory.intrinsic+json": {
              "type": "string"
            }
          },
          "metadata": {},
          "execution_count": 25
        }
      ]
    },
    {
      "cell_type": "markdown",
      "source": [
        "#### loop through all the database"
      ],
      "metadata": {
        "id": "BrZ5Jc-gJfZD"
      }
    },
    {
      "cell_type": "code",
      "source": [
        "df.reset_index(inplace=True)"
      ],
      "metadata": {
        "id": "H66hJlIkn0QL"
      },
      "execution_count": null,
      "outputs": []
    },
    {
      "cell_type": "code",
      "source": [
        "df.rename(columns={'index':'id'})"
      ],
      "metadata": {
        "id": "sGkAx8tXu-17"
      },
      "execution_count": null,
      "outputs": []
    },
    {
      "cell_type": "code",
      "source": [
        "#loop\n",
        "def polarity_scores_roberta(example):\n",
        "    encoded_text = tokenizer(example, return_tensors='pt')\n",
        "    output = model(**encoded_text)\n",
        "    scores = output[0][0].detach().numpy()\n",
        "    scores = softmax(scores)\n",
        "    scores_dict = {'negative': scores[0],\n",
        "                   'neutral': scores[1],\n",
        "                   'positive': scores[2]\n",
        "    }\n",
        "    return max(scores_dict, key=scores_dict.get)"
      ],
      "metadata": {
        "id": "6trEeAkZpZUr"
      },
      "execution_count": null,
      "outputs": []
    },
    {
      "cell_type": "code",
      "source": [
        "res = {}\n",
        "for i, row in tqdm(df.iterrows(), total=len(df)):\n",
        "  try:\n",
        "      text = row['content']\n",
        "      myid = row['index']\n",
        "      roberta_result = polarity_scores_roberta(text)\n",
        "      res[myid] = roberta_result\n",
        "  except RuntimeError:\n",
        "        print(f'Broke for id {myid}')\n"
      ],
      "metadata": {
        "colab": {
          "base_uri": "https://localhost:8080/"
        },
        "id": "-nosvdBeon0e",
        "outputId": "bd884c10-9ec6-4dce-9fea-95d54faa858d"
      },
      "execution_count": null,
      "outputs": [
        {
          "output_type": "stream",
          "name": "stderr",
          "text": [
            "100%|██████████| 100/100 [00:24<00:00,  4.08it/s]\n"
          ]
        }
      ]
    },
    {
      "cell_type": "code",
      "source": [
        "res"
      ],
      "metadata": {
        "id": "lchzlL_DGyhg"
      },
      "execution_count": null,
      "outputs": []
    },
    {
      "cell_type": "code",
      "source": [
        "results_df = pd.DataFrame.from_dict(res, orient='index', columns=['sentiment'])\n",
        "results_df = results_df.reset_index()\n",
        "results_df = results_df.merge(df, how='left')"
      ],
      "metadata": {
        "id": "U1cyOFGe38IV"
      },
      "execution_count": null,
      "outputs": []
    },
    {
      "cell_type": "code",
      "source": [
        "results_df['url'][0]"
      ],
      "metadata": {
        "colab": {
          "base_uri": "https://localhost:8080/",
          "height": 35
        },
        "id": "FO2VyM4ZD5n_",
        "outputId": "c0ac5684-400b-4582-9f46-9fb2e12b5e6a"
      },
      "execution_count": null,
      "outputs": [
        {
          "output_type": "execute_result",
          "data": {
            "text/plain": [
              "'https://www.businessinsider.com/ev-price-war-xpeng-ceo-wealth-drop-billions-tesla-byd-2023-5'"
            ],
            "application/vnd.google.colaboratory.intrinsic+json": {
              "type": "string"
            }
          },
          "metadata": {},
          "execution_count": 30
        }
      ]
    },
    {
      "cell_type": "markdown",
      "source": [
        "#### Plot the sentiment analysis"
      ],
      "metadata": {
        "id": "1iGPIO4oKLhu"
      }
    },
    {
      "cell_type": "code",
      "source": [
        "sentiment = results_df['sentiment'].value_counts().plot()"
      ],
      "metadata": {
        "id": "GMwVUjdCJ08k"
      },
      "execution_count": null,
      "outputs": []
    },
    {
      "cell_type": "code",
      "source": [
        "sentiment['positive']"
      ],
      "metadata": {
        "colab": {
          "base_uri": "https://localhost:8080/"
        },
        "id": "bUVHaRmWMALN",
        "outputId": "d4197ec8-5029-4720-f983-ab4e90bd271f"
      },
      "execution_count": null,
      "outputs": [
        {
          "output_type": "execute_result",
          "data": {
            "text/plain": [
              "25"
            ]
          },
          "metadata": {},
          "execution_count": 46
        }
      ]
    },
    {
      "cell_type": "markdown",
      "source": [
        "#different broker api"
      ],
      "metadata": {
        "id": "0ANXgG9Bc2H0"
      }
    },
    {
      "cell_type": "markdown",
      "source": [
        "### offering different method broker app to perform the buying and selling of the stock"
      ],
      "metadata": {
        "id": "4N0YMa_IKbJL"
      }
    },
    {
      "cell_type": "markdown",
      "source": [
        "#### interactive broker api"
      ],
      "metadata": {
        "id": "CrvOLK-qkZPY"
      }
    },
    {
      "cell_type": "code",
      "source": [
        "#the interactive broker api\n",
        "!pip install ibapi         # Install the IB API library\n",
        "!pip install ib_insync     # Install the ib_insync library (optional, but recommended for a higher-level interface)"
      ],
      "metadata": {
        "id": "eflRF8s7aQ8K"
      },
      "execution_count": null,
      "outputs": []
    },
    {
      "cell_type": "code",
      "source": [
        "#the broker is gonna sell or buy the stock at the level at the price of the sentiment analysis\n",
        "from ibapi import *\n",
        "from ibapi.client import EClient\n",
        "from ibapi.contract import Contract\n",
        "from ibapi.wrapper import EWrapper\n",
        "from ibapi.order import Order\n",
        "\n",
        "class IBWrapper(EWrapper):\n",
        "    def __init__(self):\n",
        "        self.orderId = None\n",
        "\n",
        "    def nextValidId(self, orderId: int):\n",
        "        self.orderId = orderId\n",
        "\n",
        "    def tickPrice(self, reqId, tickType, price, attrib):\n",
        "        if tickType == 4:  # Last traded price\n",
        "            # Place the order with the obtained current price\n",
        "            app.place_order(instrument_id, action, order_type, quantity, price)\n",
        "\n",
        "class IBClient(EClient):\n",
        "    def __init__(self, wrapper):\n",
        "        EClient.__init__(self, wrapper)\n",
        "\n",
        "class IBApp(IBWrapper, IBClient):\n",
        "    def __init__(self):\n",
        "        IBWrapper.__init__(self)\n",
        "        IBClient.__init__(self, wrapper=self)\n",
        "\n",
        "        self.connect(\"127.0.0.1\", 7497, clientId=1)  # Replace with appropriate connection details\n",
        "\n",
        "    def place_order(self, instrument_id, action, order_type, quantity, price=None):\n",
        "        contract = Contract()\n",
        "        contract.symbol = instrument_id\n",
        "        contract.secType = \"STK\"\n",
        "        contract.exchange = \"SMART\"\n",
        "        contract.currency = \"USD\"\n",
        "\n",
        "        order = Order()\n",
        "        order.action = action\n",
        "        order.orderType = order_type\n",
        "        order.totalQuantity = quantity\n",
        "        if price:\n",
        "            order.lmtPrice = price\n",
        "\n",
        "        self.placeOrder(self.orderId, contract, order)\n",
        "\n",
        "    def request_market_data(self, instrument_id):\n",
        "        contract = Contract()\n",
        "        contract.symbol = instrument_id\n",
        "        contract.secType = \"STK\"\n",
        "        contract.exchange = \"SMART\"\n",
        "        contract.currency = \"USD\"\n",
        "\n",
        "        self.reqMktData(1, contract, \"\", False, False, [])\n",
        "\n",
        "# Create an instance of the Interactive Brokers app\n",
        "app = IBApp()\n",
        "\n",
        "# Determine the order type based on sentiment\n",
        "if sentiment['positive'] + sentiment['neutral'] > sentiment['negative']:\n",
        "    # Execute a buy order\n",
        "    instrument_id = 'BABA'  # Instrument ID or symbol of the security to buy\n",
        "    action = \"BUY\"  # Order action\n",
        "    order_type = \"LMT\"  # Order type\n",
        "    quantity = 10  # Number of shares to buy\n",
        "\n",
        "    # Request market data to obtain the current price\n",
        "    app.request_market_data(instrument_id)\n",
        "else:\n",
        "    # Execute a sell order\n",
        "    instrument_id = 'AAPL'  # Instrument ID or symbol of the security to sell\n",
        "    action = \"SELL\"  # Order action\n",
        "    order_type = \"MKT\"  # Order type\n",
        "    quantity = 10  # Number of shares to sell\n",
        "\n",
        "    app.place_order(instrument_id, action, order_type, quantity)\n",
        "\n",
        "# Start the API message loop\n",
        "app.run()\n",
        "\n",
        "# Disconnect from the Interactive Brokers API\n",
        "app.disconnect()\n"
      ],
      "metadata": {
        "id": "EQ7-5aOujaRz"
      },
      "execution_count": null,
      "outputs": []
    },
    {
      "cell_type": "markdown",
      "source": [
        "###unofficial webull app"
      ],
      "metadata": {
        "id": "Uuaz3_F-kHMO"
      }
    },
    {
      "cell_type": "code",
      "source": [
        "#unofficial api of webull https://github.com/tedchou12/webull\n",
        "!pip install webull"
      ],
      "metadata": {
        "id": "Ix4Sa5Aec6q-"
      },
      "execution_count": null,
      "outputs": []
    },
    {
      "cell_type": "code",
      "source": [
        "#the broker is gonna sell or buy the stock at the level at the price of the sentiment analysis\n",
        "from webull import webull, endpoints\n",
        "\n",
        "# Create a Webull API client\n",
        "wb = webull()\n",
        "wb.login(\"your_username\", \"your_password\")\n",
        "\n",
        "# Determine the order type based on sentiment\n",
        "if sentiment['positive'] + sentiment['neutral'] > sentiment['negative']:\n",
        "    # Execute a buy order\n",
        "    instrument_id = 'BABA'  # Instrument ID or symbol of the security to buy\n",
        "    order_type = 'MARKET'  # Order type\n",
        "    quantity = 10  # Number of shares to buy\n",
        "\n",
        "    # Get the current market price of the security\n",
        "    quotes = wb.get_quote(instrument_id)\n",
        "    current_price = quotes['lastTradePrice']\n",
        "\n",
        "    wb.place_order(instrument_id, endpoints.TradeType.BUY, order_type, quantity, current_price)\n",
        "else:\n",
        "    # Execute a sell order\n",
        "    instrument_id = 'BABA'  # Instrument ID or symbol of the security to sell\n",
        "    order_type = 'MARKET'  # Order type\n",
        "    quantity = 10  # Number of shares to sell\n",
        "\n",
        "    wb.place_order(instrument_id, endpoints.TradeType.SELL, order_type, quantity)\n"
      ],
      "metadata": {
        "id": "21YdWLGZJw2z"
      },
      "execution_count": null,
      "outputs": []
    }
  ]
}